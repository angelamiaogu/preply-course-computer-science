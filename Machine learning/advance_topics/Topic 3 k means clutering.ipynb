{
 "cells": [
  {
   "cell_type": "code",
   "execution_count": 1,
   "metadata": {},
   "outputs": [],
   "source": [
    "# very good question in my mind"
   ]
  },
  {
   "cell_type": "code",
   "execution_count": 2,
   "metadata": {},
   "outputs": [],
   "source": [
    "# suppose: School  A was established in 1951\n",
    "# the students' strengths was 515 that time\n",
    "# then next year the students strength was 518\n",
    "# then next year the students strength was 524\n",
    "# then next year the students strength was 528\n",
    "# lets stay if the strength ]keeps on improving with nearly same ratio in 2024\n",
    "# how many total students  waere gradxuated by School A\n",
    "                                                 "
   ]
  },
  {
   "cell_type": "code",
   "execution_count": 24,
   "metadata": {},
   "outputs": [
    {
     "data": {
      "text/plain": [
       "807"
      ]
     },
     "execution_count": 24,
     "metadata": {},
     "output_type": "execute_result"
    }
   ],
   "source": [
    "banana = 73\n",
    "schoolA = 515\n",
    "average = 4\n",
    "\n",
    "for i in range(banana):\n",
    "    schoolA  =schoolA + average \n",
    "schoolA"
   ]
  },
  {
   "cell_type": "code",
   "execution_count": 30,
   "metadata": {},
   "outputs": [
    {
     "data": {
      "text/plain": [
       "1.0076628352490422"
      ]
     },
     "execution_count": 30,
     "metadata": {},
     "output_type": "execute_result"
    }
   ],
   "source": [
    "# u =  a * r**(n-1)\n",
    "# a = current value\n",
    "# r = increasgin ratio\n",
    "# n = number of eyar\n",
    "526 / 522"
   ]
  },
  {
   "cell_type": "code",
   "execution_count": 33,
   "metadata": {},
   "outputs": [
    {
     "data": {
      "text/plain": [
       "905.9341518468017"
      ]
     },
     "execution_count": 33,
     "metadata": {},
     "output_type": "execute_result"
    }
   ],
   "source": [
    "515*(1+(4/515))**73"
   ]
  },
  {
   "cell_type": "code",
   "execution_count": 38,
   "metadata": {},
   "outputs": [],
   "source": [
    "# we are going to make 2 clusters\n",
    "banana = [2,4,5,7,9,10]\n",
    "k = 2\n",
    "# step 1: initialization of randomized centroids\n",
    "c_1 = 3\n",
    "c_2 = 8\n",
    "# step 2: assignment\n",
    "## 2, 4, & 5 are closest to c_1\n",
    "clus1 = (2,4,4)\n",
    "## 7, 9, & 10 are closest to c_2\n",
    "clus2 = (7,9,10)\n"
   ]
  },
  {
   "cell_type": "code",
   "execution_count": 39,
   "metadata": {},
   "outputs": [
    {
     "name": "stdout",
     "output_type": "stream",
     "text": [
      "3.3333333333333335 8.666666666666666\n"
     ]
    }
   ],
   "source": [
    "#step 3: update centroids\n",
    "c_1 = sum(clus1)/len(clus1)\n",
    "c_2 = sum(clus2)/len(clus2)\n",
    "\n",
    "print(c_1,c_2)"
   ]
  },
  {
   "cell_type": "code",
   "execution_count": 43,
   "metadata": {},
   "outputs": [],
   "source": [
    "# we know how to make centroid better but we actually have to chooose clusters based on distance of centrolds\n",
    "import numpy as np"
   ]
  },
  {
   "cell_type": "code",
   "execution_count": 44,
   "metadata": {},
   "outputs": [
    {
     "data": {
      "text/plain": [
       "array([ 1,  2,  3,  4,  5,  6, 19, 20, 21, 22, 23, 24])"
      ]
     },
     "execution_count": 44,
     "metadata": {},
     "output_type": "execute_result"
    }
   ],
   "source": [
    "data1 = np.array([1,2,3,4,5,6,19,20,21,22,23,24])\n",
    "data1\n"
   ]
  },
  {
   "cell_type": "code",
   "execution_count": 46,
   "metadata": {},
   "outputs": [],
   "source": [
    "k =2 \n",
    "# chose any centroids\n",
    "c_1 = 12\n",
    "c_2 = 15\n",
    "\n"
   ]
  },
  {
   "cell_type": "code",
   "execution_count": 48,
   "metadata": {},
   "outputs": [
    {
     "data": {
      "text/plain": [
       "array([11, 10,  9,  8,  7,  6,  7,  8,  9, 10, 11, 12])"
      ]
     },
     "execution_count": 48,
     "metadata": {},
     "output_type": "execute_result"
    }
   ],
   "source": [
    "# take the difference of these points with all of the data\n",
    "d1 = data1 - c_1\n",
    "np.abs(d1)"
   ]
  },
  {
   "cell_type": "code",
   "execution_count": null,
   "metadata": {},
   "outputs": [],
   "source": []
  }
 ],
 "metadata": {
  "kernelspec": {
   "display_name": "base",
   "language": "python",
   "name": "python3"
  },
  "language_info": {
   "codemirror_mode": {
    "name": "ipython",
    "version": 3
   },
   "file_extension": ".py",
   "mimetype": "text/x-python",
   "name": "python",
   "nbconvert_exporter": "python",
   "pygments_lexer": "ipython3",
   "version": "3.9.13"
  },
  "orig_nbformat": 4
 },
 "nbformat": 4,
 "nbformat_minor": 2
}
