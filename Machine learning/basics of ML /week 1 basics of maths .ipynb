{
 "cells": [
  {
   "cell_type": "markdown",
   "metadata": {},
   "source": [
    "<h1> Introduction of ML </h1>\n",
    "<h2> what is ML?</h2>\n",
    "<p>It is a feild of study where combines ai and computer science to help the ai learn like humans, gradually increasing it's accuracy. </p>\n",
    "<p>Its field of study where computer leanrs. </p>"
   ]
  },
  {
   "cell_type": "markdown",
   "metadata": {},
   "source": [
    "<h2>Types of ML</h2>\n",
    "<ol>\n"
   ]
  },
  {
   "cell_type": "code",
   "execution_count": null,
   "metadata": {},
   "outputs": [],
   "source": []
  }
 ],
 "metadata": {
  "language_info": {
   "name": "python"
  }
 },
 "nbformat": 4,
 "nbformat_minor": 2
}
